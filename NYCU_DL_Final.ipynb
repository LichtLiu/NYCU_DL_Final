{
  "nbformat": 4,
  "nbformat_minor": 0,
  "metadata": {
    "colab": {
      "provenance": [],
      "authorship_tag": "ABX9TyPKvZ0cK/wSrMHXSHGzQmiG",
      "include_colab_link": true
    },
    "kernelspec": {
      "name": "python3",
      "display_name": "Python 3"
    },
    "language_info": {
      "name": "python"
    }
  },
  "cells": [
    {
      "cell_type": "markdown",
      "metadata": {
        "id": "view-in-github",
        "colab_type": "text"
      },
      "source": [
        "<a href=\"https://colab.research.google.com/github/LichtLiu/NYCU_DL_Final/blob/main/NYCU_DL_Final.ipynb\" target=\"_parent\"><img src=\"https://colab.research.google.com/assets/colab-badge.svg\" alt=\"Open In Colab\"/></a>"
      ]
    },
    {
      "cell_type": "code",
      "source": [
        "from google.colab import drive\n",
        "drive.mount('/content/drive' , force_remount=True)"
      ],
      "metadata": {
        "colab": {
          "base_uri": "https://localhost:8080/"
        },
        "id": "HasFbqun_8II",
        "outputId": "b0612a97-38b3-49e0-c61d-9e258432c99a"
      },
      "execution_count": 13,
      "outputs": [
        {
          "output_type": "stream",
          "name": "stdout",
          "text": [
            "Mounted at /content/drive\n"
          ]
        }
      ]
    },
    {
      "cell_type": "markdown",
      "source": [
        "## 1 - Packages"
      ],
      "metadata": {
        "id": "3UjnUKNZABV1"
      }
    },
    {
      "cell_type": "code",
      "execution_count": 14,
      "metadata": {
        "id": "ER-lHJjJ_JxN",
        "colab": {
          "base_uri": "https://localhost:8080/"
        },
        "outputId": "00fd9c29-adcd-4e11-c7bf-b30c87ede953"
      },
      "outputs": [
        {
          "output_type": "stream",
          "name": "stdout",
          "text": [
            "The autoreload extension is already loaded. To reload it, use:\n",
            "  %reload_ext autoreload\n"
          ]
        }
      ],
      "source": [
        "\n",
        "import time\n",
        "import numpy as np\n",
        "import h5py\n",
        "import matplotlib.pyplot as plt\n",
        "import scipy\n",
        "from PIL import Image\n",
        "from scipy import ndimage\n",
        "import os, sys, copy\n",
        "from sklearn.model_selection import train_test_split\n",
        "\n",
        "%matplotlib inline\n",
        "plt.rcParams['figure.figsize'] = (5.0, 4.0) # set default size of plots\n",
        "plt.rcParams['image.interpolation'] = 'nearest'\n",
        "plt.rcParams['image.cmap'] = 'gray'\n",
        "\n",
        "%load_ext autoreload\n",
        "%autoreload 2\n",
        "\n",
        "np.random.seed(1)"
      ]
    },
    {
      "cell_type": "markdown",
      "source": [
        "## 2 - Load and Process the Dataset"
      ],
      "metadata": {
        "id": "jYixKuXwAECD"
      }
    },
    {
      "cell_type": "code",
      "source": [
        "def load_kaggle_dataset():\n",
        "    \"\"\"\n",
        "    Load and preprocess the Kaggle cats and dogs dataset based on the provided directory structure.\n",
        "\n",
        "    Directory structure:\n",
        "    - train/\n",
        "        - cats/\n",
        "        - dogs/\n",
        "    - test/\n",
        "        - cats/\n",
        "        - dogs/\n",
        "\n",
        "    Returns:\n",
        "    train_set_x_orig -- training set features\n",
        "    train_set_y -- training set labels\n",
        "    test_set_x_orig -- test set features\n",
        "    test_set_y -- test set labels\n",
        "    classes -- list of classes\n",
        "    \"\"\"\n",
        "    # Define base paths\n",
        "    train_dir = '/content/drive/MyDrive/Colab Notebooks/NYCU-DP/train'\n",
        "    test_dir = '/content/drive/MyDrive/Colab Notebooks/NYCU-DP/test'\n",
        "\n",
        "    # Load training data\n",
        "    train_images = []\n",
        "    train_labels = []\n",
        "\n",
        "    # Process training cat images (label 0)\n",
        "    train_cats_dir = os.path.join(train_dir, 'cats')\n",
        "    for file in os.listdir(train_cats_dir):\n",
        "        try:\n",
        "            img_path = os.path.join(train_cats_dir, file)\n",
        "            # Open image, resize to 128x128, and convert to RGB\n",
        "            img = Image.open(img_path).resize((128, 128)).convert('RGB')\n",
        "            # Convert to numpy array and append to list\n",
        "            img_array = np.array(img)\n",
        "            train_images.append(img_array)\n",
        "            train_labels.append(0)  # 0 for cats\n",
        "        except Exception as e:\n",
        "            print(f\"Error processing {file}: {e}\")\n",
        "\n",
        "    # Process training dog images (label 1)\n",
        "    train_dogs_dir = os.path.join(train_dir, 'dogs')\n",
        "    for file in os.listdir(train_dogs_dir):\n",
        "        try:\n",
        "            img_path = os.path.join(train_dogs_dir, file)\n",
        "            # Open image, resize to 128x128, and convert to RGB\n",
        "            img = Image.open(img_path).resize((128, 128)).convert('RGB')\n",
        "            # Convert to numpy array and append to list\n",
        "            img_array = np.array(img)\n",
        "            train_images.append(img_array)\n",
        "            train_labels.append(1)  # 1 for dogs\n",
        "        except Exception as e:\n",
        "            print(f\"Error processing {file}: {e}\")\n",
        "\n",
        "    # Load test data\n",
        "    test_images = []\n",
        "    test_labels = []\n",
        "\n",
        "    # Process test cat images (label 0)\n",
        "    test_cats_dir = os.path.join(test_dir, 'cats')\n",
        "    for file in os.listdir(test_cats_dir):\n",
        "        try:\n",
        "            img_path = os.path.join(test_cats_dir, file)\n",
        "            # Open image, resize to 128x128, and convert to RGB\n",
        "            img = Image.open(img_path).resize((128, 128)).convert('RGB')\n",
        "            # Convert to numpy array and append to list\n",
        "            img_array = np.array(img)\n",
        "            test_images.append(img_array)\n",
        "            test_labels.append(0)  # 0 for cats\n",
        "        except Exception as e:\n",
        "            print(f\"Error processing {file}: {e}\")\n",
        "\n",
        "    # Process test dog images (label 1)\n",
        "    test_dogs_dir = os.path.join(test_dir, 'dogs')\n",
        "    for file in os.listdir(test_dogs_dir):\n",
        "        try:\n",
        "            img_path = os.path.join(test_dogs_dir, file)\n",
        "            # Open image, resize to 128x128, and convert to RGB\n",
        "            img = Image.open(img_path).resize((128, 128)).convert('RGB')\n",
        "            # Convert to numpy array and append to list\n",
        "            img_array = np.array(img)\n",
        "            test_images.append(img_array)\n",
        "            test_labels.append(1)  # 1 for dogs\n",
        "        except Exception as e:\n",
        "            print(f\"Error processing {file}: {e}\")\n",
        "\n",
        "    # Convert lists to numpy arrays\n",
        "    train_set_x_orig = np.array(train_images)\n",
        "    train_set_y = np.array(train_labels).reshape(1, -1)  # Reshape to (1, m)\n",
        "\n",
        "    test_set_x_orig = np.array(test_images)\n",
        "    test_set_y = np.array(test_labels).reshape(1, -1)  # Reshape to (1, m)\n",
        "\n",
        "    # Create classes array\n",
        "    classes = np.array(['cat', 'dog'])\n",
        "\n",
        "    # Print dataset information\n",
        "    print(\"Number of training examples: m_train =\", train_set_x_orig.shape[0])\n",
        "    print(\"Number of testing examples: m_test =\", test_set_x_orig.shape[0])\n",
        "    print(\"Height/Width of each image: num_px =\", train_set_x_orig.shape[1])\n",
        "    print(\"Each image is of size:\", train_set_x_orig.shape[1:])\n",
        "    print(\"train_set_x shape:\", train_set_x_orig.shape)\n",
        "    print(\"train_set_y shape:\", train_set_y.shape)\n",
        "    print(\"test_set_x shape:\", test_set_x_orig.shape)\n",
        "    print(\"test_set_y shape:\", test_set_y.shape)\n",
        "\n",
        "    return train_set_x_orig, train_set_y, test_set_x_orig, test_set_y, classes"
      ],
      "metadata": {
        "id": "b4zWiy0a_wgU"
      },
      "execution_count": 15,
      "outputs": []
    },
    {
      "cell_type": "code",
      "source": [
        "\n",
        "\n",
        "train_x_orig, train_y, test_x_orig, test_y, classes = load_kaggle_dataset()\n"
      ],
      "metadata": {
        "colab": {
          "base_uri": "https://localhost:8080/"
        },
        "id": "v3W8MY_OAW0G",
        "outputId": "2208f23e-7750-44c7-9089-6988e34d4652"
      },
      "execution_count": 16,
      "outputs": [
        {
          "output_type": "stream",
          "name": "stdout",
          "text": [
            "Number of training examples: m_train = 557\n",
            "Number of testing examples: m_test = 140\n",
            "Height/Width of each image: num_px = 128\n",
            "Each image is of size: (128, 128, 3)\n",
            "train_set_x shape: (557, 128, 128, 3)\n",
            "train_set_y shape: (1, 557)\n",
            "test_set_x shape: (140, 128, 128, 3)\n",
            "test_set_y shape: (1, 140)\n"
          ]
        }
      ]
    },
    {
      "cell_type": "code",
      "source": [
        "# Example of a picture\n",
        "index = 500\n",
        "plt.imshow(train_x_orig[index])\n",
        "# Save the plot to a file\n",
        "plt.savefig('sample_image.png', dpi=300, bbox_inches='tight')\n",
        "#plt.show()\n",
        "print (\"y = \" + str(train_y[0,index]) + \". It's a \" + classes[train_y[0,index]]+  \" picture.\")"
      ],
      "metadata": {
        "colab": {
          "base_uri": "https://localhost:8080/",
          "height": 391
        },
        "id": "3pjVyvXlAY1I",
        "outputId": "f980ff02-f610-4643-cfa0-54ce12bc8f42"
      },
      "execution_count": 17,
      "outputs": [
        {
          "output_type": "stream",
          "name": "stdout",
          "text": [
            "y = 1. It's a dog picture.\n"
          ]
        },
        {
          "output_type": "display_data",
          "data": {
            "text/plain": [
              "<Figure size 500x400 with 1 Axes>"
            ],
            "image/png": "[encoded data removed]"
          },
          "metadata": {}
        }
      ]
    },
    {
      "cell_type": "code",
      "source": [
        "# Reshape the training and test examples\n",
        "train_x_flatten = train_x_orig.reshape(train_x_orig.shape[0], -1).T   # The \"-1\" makes reshape flatten the remaining dimensions\n",
        "test_x_flatten = test_x_orig.reshape(test_x_orig.shape[0], -1).T\n",
        "\n",
        "# Standardize data to have feature values between 0 and 1.\n",
        "train_x = train_x_flatten/255.\n",
        "test_x = test_x_flatten/255.\n",
        "\n",
        "print (\"train_x's shape: \" + str(train_x.shape))\n",
        "print (\"test_x's shape: \" + str(test_x.shape))\n",
        "\n",
        "# Note: 49,152   equals  128×128×3 , which is the size of one reshaped image vector."
      ],
      "metadata": {
        "colab": {
          "base_uri": "https://localhost:8080/"
        },
        "id": "K9EPiCNXAa5D",
        "outputId": "143494a1-d845-4cf7-f508-aa6cfc8b0a65"
      },
      "execution_count": 18,
      "outputs": [
        {
          "output_type": "stream",
          "name": "stdout",
          "text": [
            "train_x's shape: (49152, 557)\n",
            "test_x's shape: (49152, 140)\n"
          ]
        }
      ]
    },
    {
      "cell_type": "markdown",
      "source": [
        "## 3 - Model Architecture"
      ],
      "metadata": {
        "id": "bgUFoDDW_tNm"
      }
    },
    {
      "cell_type": "code",
      "source": [
        "\n",
        "def sigmoid(Z):\n",
        "    \"\"\"\n",
        "    Implements the sigmoid activation in numpy\n",
        "\n",
        "    Arguments:\n",
        "    Z -- numpy array of any shape\n",
        "\n",
        "    Returns:\n",
        "    A -- output of sigmoid(z), same shape as Z\n",
        "    cache -- returns Z as well, useful during backpropagation\n",
        "    \"\"\"\n",
        "\n",
        "    A = 1/(1+np.exp(-Z))\n",
        "    cache = Z\n",
        "\n",
        "    return A, cache\n",
        "\n",
        "def relu(Z):\n",
        "    \"\"\"\n",
        "    Implement the RELU function.\n",
        "\n",
        "    Arguments:\n",
        "    Z -- Output of the linear layer, of any shape\n",
        "\n",
        "    Returns:\n",
        "    A -- Post-activation parameter, of the same shape as Z\n",
        "    cache -- a python dictionary containing \"A\" ; stored for computing the backward pass efficiently\n",
        "    \"\"\"\n",
        "\n",
        "    A = np.maximum(0,Z)\n",
        "\n",
        "    assert(A.shape == Z.shape)\n",
        "\n",
        "    cache = Z\n",
        "    return A, cache\n",
        "\n",
        "\n",
        "def relu_backward(dA, cache):\n",
        "    \"\"\"\n",
        "    Implement the backward propagation for a single RELU unit.\n",
        "\n",
        "    Arguments:\n",
        "    dA -- post-activation gradient, of any shape\n",
        "    cache -- 'Z' where we store for computing backward propagation efficiently\n",
        "\n",
        "    Returns:\n",
        "    dZ -- Gradient of the cost with respect to Z\n",
        "    \"\"\"\n",
        "\n",
        "    Z = cache\n",
        "    dZ = np.array(dA, copy=True) # just converting dz to a correct object.\n",
        "\n",
        "    # When z <= 0, you should set dz to 0 as well.\n",
        "    dZ[Z <= 0] = 0\n",
        "\n",
        "    assert (dZ.shape == Z.shape)\n",
        "\n",
        "    return dZ\n",
        "\n",
        "def sigmoid_backward(dA, cache):\n",
        "    \"\"\"\n",
        "    Implement the backward propagation for a single SIGMOID unit.\n",
        "\n",
        "    Arguments:\n",
        "    dA -- post-activation gradient, of any shape\n",
        "    cache -- 'Z' where we store for computing backward propagation efficiently\n",
        "\n",
        "    Returns:\n",
        "    dZ -- Gradient of the cost with respect to Z\n",
        "    \"\"\"\n",
        "\n",
        "    Z = cache\n",
        "\n",
        "    s = 1/(1+np.exp(-Z))\n",
        "    dZ = dA * s * (1-s)\n",
        "\n",
        "    assert (dZ.shape == Z.shape)\n",
        "\n",
        "    return dZ\n",
        "\n",
        "\n",
        "def load_data():\n",
        "    train_dataset = h5py.File('datasets/train_catvnoncat.h5', \"r\")\n",
        "    train_set_x_orig = np.array(train_dataset[\"train_set_x\"][:]) # your train set features\n",
        "    train_set_y_orig = np.array(train_dataset[\"train_set_y\"][:]) # your train set labels\n",
        "\n",
        "    test_dataset = h5py.File('datasets/test_catvnoncat.h5', \"r\")\n",
        "    test_set_x_orig = np.array(test_dataset[\"test_set_x\"][:]) # your test set features\n",
        "    test_set_y_orig = np.array(test_dataset[\"test_set_y\"][:]) # your test set labels\n",
        "\n",
        "    classes = np.array(test_dataset[\"list_classes\"][:]) # the list of classes\n",
        "\n",
        "    train_set_y_orig = train_set_y_orig.reshape((1, train_set_y_orig.shape[0]))\n",
        "    test_set_y_orig = test_set_y_orig.reshape((1, test_set_y_orig.shape[0]))\n",
        "\n",
        "    return train_set_x_orig, train_set_y_orig, test_set_x_orig, test_set_y_orig, classes\n",
        "\n",
        "\n",
        "def initialize_parameters(n_x, n_h, n_y):\n",
        "    \"\"\"\n",
        "    Argument:\n",
        "    n_x -- size of the input layer\n",
        "    n_h -- size of the hidden layer\n",
        "    n_y -- size of the output layer\n",
        "\n",
        "    Returns:\n",
        "    parameters -- python dictionary containing your parameters:\n",
        "                    W1 -- weight matrix of shape (n_h, n_x)\n",
        "                    b1 -- bias vector of shape (n_h, 1)\n",
        "                    W2 -- weight matrix of shape (n_y, n_h)\n",
        "                    b2 -- bias vector of shape (n_y, 1)\n",
        "    \"\"\"\n",
        "\n",
        "    np.random.seed(1)\n",
        "\n",
        "    W1 = np.random.randn(n_h, n_x)*0.01\n",
        "    b1 = np.zeros((n_h, 1))\n",
        "    W2 = np.random.randn(n_y, n_h)*0.01\n",
        "    b2 = np.zeros((n_y, 1))\n",
        "\n",
        "    assert(W1.shape == (n_h, n_x))\n",
        "    assert(b1.shape == (n_h, 1))\n",
        "    assert(W2.shape == (n_y, n_h))\n",
        "    assert(b2.shape == (n_y, 1))\n",
        "\n",
        "    parameters = {\"W1\": W1,\n",
        "                  \"b1\": b1,\n",
        "                  \"W2\": W2,\n",
        "                  \"b2\": b2}\n",
        "\n",
        "    return parameters\n",
        "\n",
        "\n",
        "def initialize_parameters_deep(layer_dims):\n",
        "    \"\"\"\n",
        "    Arguments:\n",
        "    layer_dims -- python array (list) containing the dimensions of each layer in our network\n",
        "\n",
        "    Returns:\n",
        "    parameters -- python dictionary containing your parameters \"W1\", \"b1\", ..., \"WL\", \"bL\":\n",
        "                    Wl -- weight matrix of shape (layer_dims[l], layer_dims[l-1])\n",
        "                    bl -- bias vector of shape (layer_dims[l], 1)\n",
        "    \"\"\"\n",
        "\n",
        "    np.random.seed(1)\n",
        "    parameters = {}\n",
        "    L = len(layer_dims)            # number of layers in the network\n",
        "\n",
        "    for l in range(1, L):\n",
        "        #parameters['W' + str(l)] = np.random.randn(layer_dims[l], layer_dims[l-1]) / np.sqrt(layer_dims[l-1]) #*0.01\n",
        "        parameters['W' + str(l)] = np.random.randn(layer_dims[l], layer_dims[l-1]) * np.sqrt(2./layer_dims[l-1])\n",
        "        parameters['b' + str(l)] = np.zeros((layer_dims[l], 1))\n",
        "\n",
        "        assert(parameters['W' + str(l)].shape == (layer_dims[l], layer_dims[l-1]))\n",
        "        assert(parameters['b' + str(l)].shape == (layer_dims[l], 1))\n",
        "\n",
        "\n",
        "    return parameters\n",
        "\n",
        "def linear_forward(A, W, b):\n",
        "    \"\"\"\n",
        "    Implement the linear part of a layer's forward propagation.\n",
        "\n",
        "    Arguments:\n",
        "    A -- activations from previous layer (or input data): (size of previous layer, number of examples)\n",
        "    W -- weights matrix: numpy array of shape (size of current layer, size of previous layer)\n",
        "    b -- bias vector, numpy array of shape (size of the current layer, 1)\n",
        "\n",
        "    Returns:\n",
        "    Z -- the input of the activation function, also called pre-activation parameter\n",
        "    cache -- a python dictionary containing \"A\", \"W\" and \"b\" ; stored for computing the backward pass efficiently\n",
        "    \"\"\"\n",
        "\n",
        "    Z = W.dot(A) + b\n",
        "\n",
        "    assert(Z.shape == (W.shape[0], A.shape[1]))\n",
        "    cache = (A, W, b)\n",
        "\n",
        "    return Z, cache\n",
        "\n",
        "def linear_activation_forward(A_prev, W, b, activation):\n",
        "    \"\"\"\n",
        "    Implement the forward propagation for the LINEAR->ACTIVATION layer\n",
        "\n",
        "    Arguments:\n",
        "    A_prev -- activations from previous layer (or input data): (size of previous layer, number of examples)\n",
        "    W -- weights matrix: numpy array of shape (size of current layer, size of previous layer)\n",
        "    b -- bias vector, numpy array of shape (size of the current layer, 1)\n",
        "    activation -- the activation to be used in this layer, stored as a text string: \"sigmoid\" or \"relu\"\n",
        "\n",
        "    Returns:\n",
        "    A -- the output of the activation function, also called the post-activation value\n",
        "    cache -- a python dictionary containing \"linear_cache\" and \"activation_cache\";\n",
        "             stored for computing the backward pass efficiently\n",
        "    \"\"\"\n",
        "\n",
        "    if activation == \"sigmoid\":\n",
        "        # Inputs: \"A_prev, W, b\". Outputs: \"A, activation_cache\".\n",
        "        Z, linear_cache = linear_forward(A_prev, W, b)\n",
        "        A, activation_cache = sigmoid(Z)\n",
        "\n",
        "    elif activation == \"relu\":\n",
        "        # Inputs: \"A_prev, W, b\". Outputs: \"A, activation_cache\".\n",
        "        Z, linear_cache = linear_forward(A_prev, W, b)\n",
        "        A, activation_cache = relu(Z)\n",
        "\n",
        "    assert (A.shape == (W.shape[0], A_prev.shape[1]))\n",
        "    cache = (linear_cache, activation_cache)\n",
        "\n",
        "    return A, cache\n",
        "\n",
        "def L_model_forward(X, parameters):\n",
        "    \"\"\"\n",
        "    Implement forward propagation for the [LINEAR->RELU]*(L-1)->LINEAR->SIGMOID computation\n",
        "\n",
        "    Arguments:\n",
        "    X -- data, numpy array of shape (input size, number of examples)\n",
        "    parameters -- output of initialize_parameters_deep()\n",
        "\n",
        "    Returns:\n",
        "    AL -- last post-activation value\n",
        "    caches -- list of caches containing:\n",
        "                every cache of linear_relu_forward() (there are L-1 of them, indexed from 0 to L-2)\n",
        "                the cache of linear_sigmoid_forward() (there is one, indexed L-1)\n",
        "    \"\"\"\n",
        "\n",
        "    caches = []\n",
        "    A = X\n",
        "    L = len(parameters) // 2                  # number of layers in the neural network\n",
        "\n",
        "    # Implement [LINEAR -> RELU]*(L-1). Add \"cache\" to the \"caches\" list.\n",
        "    for l in range(1, L):\n",
        "        A_prev = A\n",
        "        A, cache = linear_activation_forward(A_prev, parameters['W' + str(l)], parameters['b' + str(l)], activation = \"relu\")\n",
        "        caches.append(cache)\n",
        "\n",
        "    # Implement LINEAR -> SIGMOID. Add \"cache\" to the \"caches\" list.\n",
        "    AL, cache = linear_activation_forward(A, parameters['W' + str(L)], parameters['b' + str(L)], activation = \"sigmoid\")\n",
        "    caches.append(cache)\n",
        "\n",
        "    assert(AL.shape == (1,X.shape[1]))\n",
        "\n",
        "    return AL, caches\n",
        "\n",
        "def compute_cost(AL, Y):\n",
        "    \"\"\"\n",
        "    Implement the cost function defined by equation (7).\n",
        "\n",
        "    Arguments:\n",
        "    AL -- probability vector corresponding to your label predictions, shape (1, number of examples)\n",
        "    Y -- true \"label\" vector (for example: containing 0 if non-cat, 1 if cat), shape (1, number of examples)\n",
        "\n",
        "    Returns:\n",
        "    cost -- cross-entropy cost\n",
        "    \"\"\"\n",
        "\n",
        "    m = Y.shape[1]\n",
        "\n",
        "    # Compute loss from aL and y.\n",
        "    cost = (1./m) * (-np.dot(Y,np.log(AL).T) - np.dot(1-Y, np.log(1-AL).T))\n",
        "\n",
        "    cost = np.squeeze(cost)      # To make sure your cost's shape is what we expect (e.g. this turns [[17]] into 17).\n",
        "    assert(cost.shape == ())\n",
        "\n",
        "    return cost\n",
        "\n",
        "def linear_backward(dZ, cache):\n",
        "    \"\"\"\n",
        "    Implement the linear portion of backward propagation for a single layer (layer l)\n",
        "\n",
        "    Arguments:\n",
        "    dZ -- Gradient of the cost with respect to the linear output (of current layer l)\n",
        "    cache -- tuple of values (A_prev, W, b) coming from the forward propagation in the current layer\n",
        "\n",
        "    Returns:\n",
        "    dA_prev -- Gradient of the cost with respect to the activation (of the previous layer l-1), same shape as A_prev\n",
        "    dW -- Gradient of the cost with respect to W (current layer l), same shape as W\n",
        "    db -- Gradient of the cost with respect to b (current layer l), same shape as b\n",
        "    \"\"\"\n",
        "    A_prev, W, b = cache\n",
        "    m = A_prev.shape[1]\n",
        "\n",
        "    dW = 1./m * np.dot(dZ,A_prev.T)\n",
        "    db = 1./m * np.sum(dZ, axis = 1, keepdims = True)\n",
        "    dA_prev = np.dot(W.T,dZ)\n",
        "\n",
        "    assert (dA_prev.shape == A_prev.shape)\n",
        "    assert (dW.shape == W.shape)\n",
        "    assert (db.shape == b.shape)\n",
        "\n",
        "    return dA_prev, dW, db\n",
        "\n",
        "def linear_activation_backward(dA, cache, activation):\n",
        "    \"\"\"\n",
        "    Implement the backward propagation for the LINEAR->ACTIVATION layer.\n",
        "\n",
        "    Arguments:\n",
        "    dA -- post-activation gradient for current layer l\n",
        "    cache -- tuple of values (linear_cache, activation_cache) we store for computing backward propagation efficiently\n",
        "    activation -- the activation to be used in this layer, stored as a text string: \"sigmoid\" or \"relu\"\n",
        "\n",
        "    Returns:\n",
        "    dA_prev -- Gradient of the cost with respect to the activation (of the previous layer l-1), same shape as A_prev\n",
        "    dW -- Gradient of the cost with respect to W (current layer l), same shape as W\n",
        "    db -- Gradient of the cost with respect to b (current layer l), same shape as b\n",
        "    \"\"\"\n",
        "    linear_cache, activation_cache = cache\n",
        "\n",
        "    if activation == \"relu\":\n",
        "        dZ = relu_backward(dA, activation_cache)\n",
        "        dA_prev, dW, db = linear_backward(dZ, linear_cache)\n",
        "\n",
        "    elif activation == \"sigmoid\":\n",
        "        dZ = sigmoid_backward(dA, activation_cache)\n",
        "        dA_prev, dW, db = linear_backward(dZ, linear_cache)\n",
        "\n",
        "    return dA_prev, dW, db\n",
        "\n",
        "def L_model_backward(AL, Y, caches):\n",
        "    \"\"\"\n",
        "    Implement the backward propagation for the [LINEAR->RELU] * (L-1) -> LINEAR -> SIGMOID group\n",
        "\n",
        "    Arguments:\n",
        "    AL -- probability vector, output of the forward propagation (L_model_forward())\n",
        "    Y -- true \"label\" vector (containing 0 if non-cat, 1 if cat)\n",
        "    caches -- list of caches containing:\n",
        "                every cache of linear_activation_forward() with \"relu\" (there are (L-1) or them, indexes from 0 to L-2)\n",
        "                the cache of linear_activation_forward() with \"sigmoid\" (there is one, index L-1)\n",
        "\n",
        "    Returns:\n",
        "    grads -- A dictionary with the gradients\n",
        "             grads[\"dA\" + str(l)] = ...\n",
        "             grads[\"dW\" + str(l)] = ...\n",
        "             grads[\"db\" + str(l)] = ...\n",
        "    \"\"\"\n",
        "    grads = {}\n",
        "    L = len(caches) # the number of layers\n",
        "    m = AL.shape[1]\n",
        "    Y = Y.reshape(AL.shape) # after this line, Y is the same shape as AL\n",
        "\n",
        "    # Initializing the backpropagation\n",
        "    dAL = - (np.divide(Y, AL) - np.divide(1 - Y, 1 - AL))\n",
        "\n",
        "    # Lth layer (SIGMOID -> LINEAR) gradients. Inputs: \"AL, Y, caches\". Outputs: \"grads[\"dAL\"], grads[\"dWL\"], grads[\"dbL\"]\n",
        "    current_cache = caches[L-1]\n",
        "    grads[\"dA\" + str(L-1)], grads[\"dW\" + str(L)], grads[\"db\" + str(L)] = linear_activation_backward(dAL, current_cache, activation = \"sigmoid\")\n",
        "\n",
        "    for l in reversed(range(L-1)):\n",
        "        # lth layer: (RELU -> LINEAR) gradients.\n",
        "        current_cache = caches[l]\n",
        "        dA_prev_temp, dW_temp, db_temp = linear_activation_backward(grads[\"dA\" + str(l + 1)], current_cache, activation = \"relu\")\n",
        "        grads[\"dA\" + str(l)] = dA_prev_temp\n",
        "        grads[\"dW\" + str(l + 1)] = dW_temp\n",
        "        grads[\"db\" + str(l + 1)] = db_temp\n",
        "\n",
        "    return grads\n",
        "\n",
        "def update_parameters(parameters, grads, learning_rate):\n",
        "    \"\"\"\n",
        "    Update parameters using gradient descent\n",
        "\n",
        "    Arguments:\n",
        "    parameters -- python dictionary containing your parameters\n",
        "    grads -- python dictionary containing your gradients, output of L_model_backward\n",
        "\n",
        "    Returns:\n",
        "    parameters -- python dictionary containing your updated parameters\n",
        "                  parameters[\"W\" + str(l)] = ...\n",
        "                  parameters[\"b\" + str(l)] = ...\n",
        "    \"\"\"\n",
        "\n",
        "    L = len(parameters) // 2 # number of layers in the neural network\n",
        "\n",
        "    # Update rule for each parameter. Use a for loop.\n",
        "    for l in range(L):\n",
        "        parameters[\"W\" + str(l+1)] = parameters[\"W\" + str(l+1)] - learning_rate * grads[\"dW\" + str(l+1)]\n",
        "        parameters[\"b\" + str(l+1)] = parameters[\"b\" + str(l+1)] - learning_rate * grads[\"db\" + str(l+1)]\n",
        "\n",
        "    return parameters\n",
        "\n",
        "def predict(X, y, parameters):\n",
        "    \"\"\"\n",
        "    This function is used to predict the results of a  L-layer neural network.\n",
        "\n",
        "    Arguments:\n",
        "    X -- data set of examples you would like to label\n",
        "    parameters -- parameters of the trained model\n",
        "\n",
        "    Returns:\n",
        "    p -- predictions for the given dataset X\n",
        "    \"\"\"\n",
        "\n",
        "    m = X.shape[1]\n",
        "    n = len(parameters) // 2 # number of layers in the neural network\n",
        "    p = np.zeros((1,m))\n",
        "\n",
        "    # Forward propagation\n",
        "    probas, caches = L_model_forward(X, parameters)\n",
        "\n",
        "\n",
        "    # convert probas to 0/1 predictions\n",
        "    for i in range(0, probas.shape[1]):\n",
        "        if probas[0,i] > 0.5:\n",
        "            p[0,i] = 1\n",
        "        else:\n",
        "            p[0,i] = 0\n",
        "\n",
        "    #print results\n",
        "    #print (\"predictions: \" + str(p))\n",
        "    #print (\"true labels: \" + str(y))\n",
        "    print(\"Accuracy: \"  + str(np.sum((p == y)/m)))\n",
        "\n",
        "    return p\n",
        "\n",
        "def print_mislabeled_images(classes, X, y, p):\n",
        "    \"\"\"\n",
        "    Plots images where predictions and truth were different.\n",
        "    X -- dataset\n",
        "    y -- true labels\n",
        "    p -- predictions\n",
        "    \"\"\"\n",
        "    a = p + y\n",
        "    mislabeled_indices = np.asarray(np.where(a == 1))\n",
        "    plt.rcParams['figure.figsize'] = (40.0, 40.0) # set default size of plots\n",
        "    num_images = len(mislabeled_indices[0])\n",
        "    for i in range(num_images):\n",
        "        index = mislabeled_indices[1][i]\n",
        "\n",
        "        plt.subplot(2, num_images, i + 1)\n",
        "        plt.imshow(X[:,index].reshape(64,64,3), interpolation='nearest')\n",
        "        plt.axis('off')\n",
        "        plt.title(\"Prediction: \" + classes[int(p[0,index])].decode(\"utf-8\") + \" \\n Class: \" + classes[y[0,index]].decode(\"utf-8\"))\n"
      ],
      "metadata": {
        "id": "GuJFdOUJAcxU"
      },
      "execution_count": 19,
      "outputs": []
    },
    {
      "cell_type": "markdown",
      "source": [
        "## 4 - Two-layer Neural Network"
      ],
      "metadata": {
        "id": "mlPGfyXA_zCK"
      }
    },
    {
      "cell_type": "code",
      "source": [
        "\n",
        "### CONSTANTS DEFINING THE MODEL ####\n",
        "n_x = 49152    # num_px * num_px * 3\n",
        "n_h = 7\n",
        "n_y = 1\n",
        "layers_dims = (n_x, n_h, n_y)\n",
        "learning_rate = 0.0075\n",
        "\n",
        "def two_layer_model(X, Y, layers_dims, learning_rate = 0.0075, num_iterations = 3000, print_cost=False):\n",
        "    \"\"\"\n",
        "    Implements a two-layer neural network: LINEAR->RELU->LINEAR->SIGMOID.\n",
        "\n",
        "    Arguments:\n",
        "    X -- input data, of shape (n_x, number of examples)\n",
        "    Y -- true \"label\" vector (containing 1 if cat, 0 if non-cat), of shape (1, number of examples)\n",
        "    layers_dims -- dimensions of the layers (n_x, n_h, n_y)\n",
        "    num_iterations -- number of iterations of the optimization loop\n",
        "    learning_rate -- learning rate of the gradient descent update rule\n",
        "    print_cost -- If set to True, this will print the cost every 100 iterations\n",
        "\n",
        "    Returns:\n",
        "    parameters -- a dictionary containing W1, W2, b1, and b2\n",
        "    \"\"\"\n",
        "\n",
        "    np.random.seed(1)\n",
        "    grads = {}\n",
        "    costs = []                              # to keep track of the cost\n",
        "    m = X.shape[1]                           # number of examples\n",
        "    (n_x, n_h, n_y) = layers_dims\n",
        "\n",
        "    # Initialize parameters dictionary, by calling one of the functions you'd previously implemented\n",
        "    parameters = initialize_parameters(n_x, n_h, n_y)\n",
        "\n",
        "\n",
        "    # Get W1, b1, W2 and b2 from the dictionary parameters.\n",
        "    W1 = parameters[\"W1\"]\n",
        "    b1 = parameters[\"b1\"]\n",
        "    W2 = parameters[\"W2\"]\n",
        "    b2 = parameters[\"b2\"]\n",
        "\n",
        "    # Loop (gradient descent)\n",
        "\n",
        "    for i in range(0, num_iterations):\n",
        "\n",
        "        # Forward propagation: LINEAR -> RELU -> LINEAR -> SIGMOID. Inputs: \"X, W1, b1, W2, b2\". Output: \"A1, cache1, A2, cache2\".\n",
        "        A1, cache1 = linear_activation_forward(X, W1, b1, \"relu\")\n",
        "        A2, cache2 = linear_activation_forward(A1, W2, b2, \"sigmoid\")\n",
        "\n",
        "        # Compute cost\n",
        "        cost = compute_cost(A2, Y)\n",
        "\n",
        "        # Initializing backward propagation\n",
        "        dA2 = - (np.divide(Y, A2) - np.divide(1 - Y, 1 - A2))\n",
        "\n",
        "        # Backward propagation. Inputs: \"dA2, cache2, cache1\". Outputs: \"dA1, dW2, db2; also dA0 (not used), dW1, db1\".\n",
        "        dA1, dW2, db2 = linear_activation_backward(dA2, cache2, \"sigmoid\")\n",
        "        dA0, dW1, db1 = linear_activation_backward(dA1, cache1, \"relu\")\n",
        "\n",
        "        # Set grads['dWl'] to dW1, grads['db1'] to db1, grads['dW2'] to dW2, grads['db2'] to db2\n",
        "        grads['dW1'] = dW1\n",
        "        grads['db1'] = db1\n",
        "        grads['dW2'] = dW2\n",
        "        grads['db2'] = db2\n",
        "\n",
        "        # Update parameters.\n",
        "        parameters = update_parameters(parameters, grads, learning_rate)\n",
        "\n",
        "\n",
        "\n",
        "        # Retrieve W1, b1, W2, b2 from parameters\n",
        "        W1 = parameters[\"W1\"]\n",
        "        b1 = parameters[\"b1\"]\n",
        "        W2 = parameters[\"W2\"]\n",
        "        b2 = parameters[\"b2\"]\n",
        "\n",
        "        # Print the cost every 100 iterations and for the last iteration\n",
        "        if print_cost and (i % 100 == 0 or i == num_iterations - 1):\n",
        "            print(\"Cost after iteration {}: {}\".format(i, np.squeeze(cost)))\n",
        "        if i % 100 == 0:\n",
        "            costs.append(cost)\n",
        "\n",
        "    return parameters, costs\n",
        "\n",
        "def plot_costs(costs, learning_rate=0.01):\n",
        "    plt.plot(np.squeeze(costs))\n",
        "    plt.ylabel('cost')\n",
        "    plt.xlabel('iterations (per hundreds)')\n",
        "    plt.title(\"Learning rate =\" + str(learning_rate))\n",
        "    plt.show()\n",
        "\n",
        "parameters, costs = two_layer_model(train_x, train_y, layers_dims = (n_x, n_h, n_y), num_iterations = 2, print_cost=False)\n",
        "\n",
        "print(\"Cost after first iteration: \" + str(costs[0]))\n",
        "\n",
        "parameters, costs = two_layer_model(train_x, train_y, layers_dims = (n_x, n_h, n_y), num_iterations = 5000, print_cost=True)\n",
        "plot_costs(costs, learning_rate)\n",
        "\n",
        "predictions_train = predict(train_x, train_y, parameters)\n",
        "\n",
        "predictions_test = predict(test_x, test_y, parameters)"
      ],
      "metadata": {
        "colab": {
          "base_uri": "https://localhost:8080/",
          "height": 1000
        },
        "id": "N7XenFvp_pjY",
        "outputId": "8bf033d7-25a3-4707-cf90-5b248c997392"
      },
      "execution_count": null,
      "outputs": [
        {
          "output_type": "stream",
          "name": "stdout",
          "text": [
            "Cost after first iteration: 0.6932498480110872\n",
            "Cost after iteration 0: 0.6932498480110872\n",
            "Cost after iteration 100: 0.6910018543142787\n",
            "Cost after iteration 200: 0.6784752976152673\n",
            "Cost after iteration 300: 0.6407018964905616\n",
            "Cost after iteration 400: 0.6283805960514515\n",
            "Cost after iteration 500: 0.6162740252659502\n",
            "Cost after iteration 600: 0.5973948693472123\n",
            "Cost after iteration 700: 0.5781818700226428\n",
            "Cost after iteration 800: 0.546850150111622\n",
            "Cost after iteration 900: 0.5454434742588214\n",
            "Cost after iteration 1000: 0.5051973285026223\n",
            "Cost after iteration 1100: 0.7700472939322838\n",
            "Cost after iteration 1200: 0.4996050460224465\n",
            "Cost after iteration 1300: 0.4085017487970303\n",
            "Cost after iteration 1400: 0.45666763241286906\n",
            "Cost after iteration 1500: 1.0203017487479114\n",
            "Cost after iteration 1600: 0.3314500388804655\n",
            "Cost after iteration 1700: 0.2594447318444343\n",
            "Cost after iteration 1800: 0.2890955290359641\n",
            "Cost after iteration 1900: 0.43860878311858464\n",
            "Cost after iteration 2000: 0.21057911984207156\n",
            "Cost after iteration 2100: 0.34686885594494293\n",
            "Cost after iteration 2200: 0.1748829032719843\n",
            "Cost after iteration 2300: 0.18257002593030391\n",
            "Cost after iteration 2400: 0.18673856985206266\n",
            "Cost after iteration 2500: 0.190051581516629\n",
            "Cost after iteration 2600: 0.27858269924193974\n",
            "Cost after iteration 2700: 0.13137496142148192\n",
            "Cost after iteration 2800: 0.09253593582696627\n",
            "Cost after iteration 2900: 0.2691462717726721\n",
            "Cost after iteration 3000: 0.30596769465574314\n",
            "Cost after iteration 3100: 0.3247677959468368\n",
            "Cost after iteration 3200: 0.48081293429461847\n",
            "Cost after iteration 3300: 0.3582263764566733\n",
            "Cost after iteration 3400: 0.05117518848669524\n",
            "Cost after iteration 3500: 0.04904060136398216\n",
            "Cost after iteration 3600: 0.03852841914550678\n",
            "Cost after iteration 3700: 0.03271983532314765\n",
            "Cost after iteration 3800: 0.028314447350552198\n",
            "Cost after iteration 3900: 0.02528045016793628\n",
            "Cost after iteration 4000: 0.022949614319966796\n",
            "Cost after iteration 4100: 0.02109058452189603\n",
            "Cost after iteration 4200: 0.019497394828590142\n",
            "Cost after iteration 4300: 0.018090191613686364\n",
            "Cost after iteration 4400: 0.016965445871318513\n",
            "Cost after iteration 4500: 0.01591425455554595\n",
            "Cost after iteration 4600: 0.01501272788887811\n",
            "Cost after iteration 4700: 0.014216527423322724\n",
            "Cost after iteration 4800: 0.013507184063818496\n",
            "Cost after iteration 4900: 0.012890039245816031\n",
            "Cost after iteration 4999: 0.012316926524171469\n"
          ]
        },
        {
          "output_type": "display_data",
          "data": {
            "text/plain": [
              "<Figure size 500x400 with 1 Axes>"
            ],
            "image/png": "[encoded data removed]"
          },
          "metadata": {}
        },
        {
          "output_type": "stream",
          "name": "stdout",
          "text": [
            "Accuracy: 1.0\n",
            "Accuracy: 0.6214285714285714\n"
          ]
        }
      ]
    },
    {
      "cell_type": "markdown",
      "source": [
        "## 5 - L-layer Neural Network"
      ],
      "metadata": {
        "id": "jQa1KBeu_7xP"
      }
    },
    {
      "cell_type": "code",
      "source": [
        "\n",
        "### CONSTANTS ###\n",
        "#layers_dims = [49152, 20, 7, 5, 1] #  4-layer model\n",
        "#layers_dims = [49152, 32, 16, 1]\n",
        "layers_dims = [49152, 64, 32, 16, 8, 1]"
      ],
      "metadata": {
        "id": "rm2oSTM-CPyw"
      },
      "execution_count": 20,
      "outputs": []
    },
    {
      "cell_type": "code",
      "source": [
        "def L_layer_model(X, Y, layers_dims, learning_rate = 0.005, num_iterations = 5000, print_cost=False, lambd=0.1):\n",
        "    \"\"\"\n",
        "    Implements a L-layer neural network: [LINEAR->RELU]*(L-1)->LINEAR->SIGMOID.\n",
        "\n",
        "    Arguments:\n",
        "    X -- input data, of shape (n_x, number of examples)\n",
        "    Y -- true \"label\" vector (containing 1 if cat, 0 if non-cat), of shape (1, number of examples)\n",
        "    layers_dims -- list containing the input size and each layer size, of length (number of layers + 1).\n",
        "    learning_rate -- learning rate of the gradient descent update rule\n",
        "    num_iterations -- number of iterations of the optimization loop\n",
        "    print_cost -- if True, it prints the cost every 100 steps\n",
        "    lambd -- L2 regularization can help prevent overfitting\n",
        "\n",
        "    Returns:\n",
        "    parameters -- parameters learnt by the model. They can then be used to predict.\n",
        "    \"\"\"\n",
        "\n",
        "    np.random.seed(1)\n",
        "    costs = []                         # keep track of cost\n",
        "\n",
        "    # Parameters initialization.\n",
        "    parameters = initialize_parameters_deep(layers_dims)\n",
        "\n",
        "    # Implement dropout in your forward propagation\n",
        "    keep_prob = 0.8  # 80% of neurons are kept\n",
        "\n",
        "    # Loop (gradient descent)\n",
        "    for i in range(0, num_iterations):\n",
        "\n",
        "        # Forward propagation: [LINEAR -> RELU]*(L-1) -> LINEAR -> SIGMOID.\n",
        "        AL, caches = L_model_forward(X, parameters)\n",
        "\n",
        "        # Compute cost.\n",
        "        cost = compute_cost(AL, Y)\n",
        "\n",
        "        # Backward propagation.\n",
        "        grads = L_model_backward(AL, Y, caches)\n",
        "\n",
        "        # Update parameters.\n",
        "        parameters = update_parameters(parameters, grads, learning_rate)\n",
        "\n",
        "\n",
        "        # Print the cost every 100 iterations and for the last iteration\n",
        "        if print_cost and (i % 100 == 0 or i == num_iterations - 1):\n",
        "            print(\"Cost after iteration {}: {}\".format(i, np.squeeze(cost)))\n",
        "        if i % 100 == 0:\n",
        "            costs.append(cost)\n",
        "\n",
        "    return parameters, costs"
      ],
      "metadata": {
        "id": "4A-OJ1JlCkCm"
      },
      "execution_count": 21,
      "outputs": []
    },
    {
      "cell_type": "code",
      "source": [
        "parameters, costs = L_layer_model(train_x, train_y, layers_dims, num_iterations = 1, print_cost = False)\n",
        "\n",
        "print(\"Cost after first iteration: \" + str(costs[0]))"
      ],
      "metadata": {
        "colab": {
          "base_uri": "https://localhost:8080/"
        },
        "id": "re6SMGxPCrpl",
        "outputId": "4bc3d6d8-e134-4480-f6f9-f042e38f5de0"
      },
      "execution_count": 22,
      "outputs": [
        {
          "output_type": "stream",
          "name": "stdout",
          "text": [
            "Cost after first iteration: 0.8655511111516571\n"
          ]
        }
      ]
    },
    {
      "cell_type": "code",
      "source": [
        "## 5.1 - Train the model\n",
        "parameters, costs = L_layer_model(train_x, train_y, layers_dims, learning_rate=0.005, num_iterations=5000, print_cost=True, lambd=0.01)"
      ],
      "metadata": {
        "colab": {
          "base_uri": "https://localhost:8080/"
        },
        "id": "JHYXC5W-Czkx",
        "outputId": "01de0eae-ac09-4bb4-b0a2-b83bb12c1c79"
      },
      "execution_count": 23,
      "outputs": [
        {
          "output_type": "stream",
          "name": "stdout",
          "text": [
            "Cost after iteration 0: 0.8655511111516571\n",
            "Cost after iteration 100: 0.6752551721350983\n",
            "Cost after iteration 200: 0.644640330404244\n",
            "Cost after iteration 300: 0.5633948591252199\n",
            "Cost after iteration 400: 0.7274092826505021\n",
            "Cost after iteration 500: 0.47748710120843807\n",
            "Cost after iteration 600: 0.4462066461250905\n",
            "Cost after iteration 700: 0.4397004067002204\n",
            "Cost after iteration 800: 0.6371823782019632\n",
            "Cost after iteration 900: 0.4041839054597018\n",
            "Cost after iteration 1000: 0.3560529208515673\n",
            "Cost after iteration 1100: 0.2524494486777068\n",
            "Cost after iteration 1200: 0.31599581523962933\n",
            "Cost after iteration 1300: 0.1847167392209876\n",
            "Cost after iteration 1400: 0.22915235092099068\n",
            "Cost after iteration 1500: 0.2803818662935198\n",
            "Cost after iteration 1600: 0.32997777525563493\n",
            "Cost after iteration 1700: 0.18077941061108135\n",
            "Cost after iteration 1800: 0.34045973900813176\n",
            "Cost after iteration 1900: 0.28552794856843633\n",
            "Cost after iteration 2000: 0.30085430819889597\n",
            "Cost after iteration 2100: 0.42567309172315304\n",
            "Cost after iteration 2200: 0.9479902425748524\n",
            "Cost after iteration 2300: 0.19786277012194498\n",
            "Cost after iteration 2400: 0.18740120603058985\n",
            "Cost after iteration 2500: 0.1294202759015923\n",
            "Cost after iteration 2600: 0.08987490445649762\n",
            "Cost after iteration 2700: 0.4890924652804226\n",
            "Cost after iteration 2800: 0.27373094991698815\n",
            "Cost after iteration 2900: 0.12750872738239696\n",
            "Cost after iteration 3000: 0.16879520772841802\n",
            "Cost after iteration 3100: 0.1536685841040953\n",
            "Cost after iteration 3200: 0.10107950967522951\n",
            "Cost after iteration 3300: 0.45986232047136666\n",
            "Cost after iteration 3400: 0.4181032668994522\n",
            "Cost after iteration 3500: 0.15379190833033454\n",
            "Cost after iteration 3600: 0.17488496352562763\n",
            "Cost after iteration 3700: 0.35838473541049404\n",
            "Cost after iteration 3800: 0.13920414415530058\n",
            "Cost after iteration 3900: 0.3560003741629823\n",
            "Cost after iteration 4000: 0.13097371669550203\n",
            "Cost after iteration 4100: 0.16029638320450196\n",
            "Cost after iteration 4200: 0.17003603933085384\n",
            "Cost after iteration 4300: 0.2042020497078608\n",
            "Cost after iteration 4400: 0.03242921438514031\n",
            "Cost after iteration 4500: 0.024514624442783156\n",
            "Cost after iteration 4600: 0.02072078151152774\n",
            "Cost after iteration 4700: 0.018284736578264734\n",
            "Cost after iteration 4800: 0.016481548946576996\n",
            "Cost after iteration 4900: 0.01504323622550981\n",
            "Cost after iteration 4999: 0.013922412652742881\n"
          ]
        }
      ]
    },
    {
      "cell_type": "code",
      "source": [
        "def plot_costs(costs, learning_rate=0.01):\n",
        "    plt.plot(np.squeeze(costs))\n",
        "    plt.ylabel('cost')\n",
        "    plt.xlabel('iterations (per hundreds)')\n",
        "    plt.title(\"Learning rate =\" + str(learning_rate))\n",
        "    plt.show()"
      ],
      "metadata": {
        "id": "hSaVIndkVErV"
      },
      "execution_count": 24,
      "outputs": []
    },
    {
      "cell_type": "code",
      "source": [
        "plot_costs(costs, learning_rate=0.001)"
      ],
      "metadata": {
        "id": "A-gNd7ixbHgi",
        "colab": {
          "base_uri": "https://localhost:8080/",
          "height": 410
        },
        "outputId": "a94faf09-ad26-44d9-e3cf-2175d580d7b0"
      },
      "execution_count": 25,
      "outputs": [
        {
          "output_type": "display_data",
          "data": {
            "text/plain": [
              "<Figure size 500x400 with 1 Axes>"
            ],
            "image/png": "[encoded data removed]"
          },
          "metadata": {}
        }
      ]
    },
    {
      "cell_type": "code",
      "source": [
        "pred_train = predict(train_x, train_y, parameters)"
      ],
      "metadata": {
        "id": "Dv2CQ3ckC7W-",
        "colab": {
          "base_uri": "https://localhost:8080/"
        },
        "outputId": "d8555890-ae4a-4f20-8fe8-de06cdbb1a92"
      },
      "execution_count": 26,
      "outputs": [
        {
          "output_type": "stream",
          "name": "stdout",
          "text": [
            "Accuracy: 0.9964093357271095\n"
          ]
        }
      ]
    },
    {
      "cell_type": "code",
      "source": [
        "pred_test = predict(test_x, test_y, parameters)"
      ],
      "metadata": {
        "id": "RAlC-uqsC-Oq",
        "colab": {
          "base_uri": "https://localhost:8080/"
        },
        "outputId": "5cc8ebf9-e1d3-4578-cef9-08c5a3673a0b"
      },
      "execution_count": 27,
      "outputs": [
        {
          "output_type": "stream",
          "name": "stdout",
          "text": [
            "Accuracy: 0.6142857142857143\n"
          ]
        }
      ]
    },
    {
      "cell_type": "code",
      "source": [],
      "metadata": {
        "id": "UNXnE4j0DERL"
      },
      "execution_count": null,
      "outputs": []
    }
  ]
}